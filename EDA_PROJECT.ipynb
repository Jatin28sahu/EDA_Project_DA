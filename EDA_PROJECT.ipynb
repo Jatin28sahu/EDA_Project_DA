{
  "nbformat": 4,
  "nbformat_minor": 0,
  "metadata": {
    "colab": {
      "provenance": [],
      "authorship_tag": "ABX9TyP01jbptfMqQJiaI82T5tu0",
      "include_colab_link": true
    },
    "kernelspec": {
      "name": "python3",
      "display_name": "Python 3"
    },
    "language_info": {
      "name": "python"
    }
  },
  "cells": [
    {
      "cell_type": "markdown",
      "metadata": {
        "id": "view-in-github",
        "colab_type": "text"
      },
      "source": [
        "<a href=\"https://colab.research.google.com/github/Jatin28sahu/EDA_Project_DA/blob/main/EDA_PROJECT.ipynb\" target=\"_parent\"><img src=\"https://colab.research.google.com/assets/colab-badge.svg\" alt=\"Open In Colab\"/></a>"
      ]
    },
    {
      "cell_type": "markdown",
      "source": [
        "**Adaptability of students in online Education**\n",
        "\n",
        "---\n",
        "\n",
        "\n",
        "\n",
        "* Since COVID-19 hits the World, Most of the big institutions look forward to the\n",
        "Online Education Activities.\n",
        "\n",
        "* But in many countries, it took a significant amount of time to adapt this. This is the Data set of one of the developing countries, Bangladesh.\n",
        "\n",
        "* In this dataset, we will analyse the relevant factors that correlate the most with online education and train dataset with the befitted model. This can help target the right factors and steps towards Modern education."
      ],
      "metadata": {
        "id": "T8MlNa1gV6eF"
      }
    },
    {
      "cell_type": "markdown",
      "source": [
        "Importing necessary Libraries"
      ],
      "metadata": {
        "id": "yHLJgODgW1m6"
      }
    },
    {
      "cell_type": "code",
      "source": [
        "import numpy as np\n",
        "import pandas as pd\n",
        "import seaborn as sns\n",
        "import matplotlib.pyplot as plt\n",
        "%matplotlib inline"
      ],
      "metadata": {
        "id": "N8JPIvWFGl8m"
      },
      "execution_count": 3,
      "outputs": []
    },
    {
      "cell_type": "markdown",
      "source": [
        "Importing CSV file"
      ],
      "metadata": {
        "id": "IJvdTtHDG-ze"
      }
    },
    {
      "cell_type": "code",
      "source": [
        "df = pd.read_csv('students_adaptability_level_online_education.csv')"
      ],
      "metadata": {
        "id": "gjsz-QIhGhKN"
      },
      "execution_count": 4,
      "outputs": []
    },
    {
      "cell_type": "code",
      "source": [
        "# look the dataset\n",
        "df.head()"
      ],
      "metadata": {
        "colab": {
          "base_uri": "https://localhost:8080/",
          "height": 354
        },
        "id": "i0Ek5eLXHL5O",
        "outputId": "4b2b5a06-94f0-48bf-b867-e19dfbd14b6f"
      },
      "execution_count": 5,
      "outputs": [
        {
          "output_type": "execute_result",
          "data": {
            "text/plain": [
              "  Gender    Age Education Level Institution Type IT Student Location  \\\n",
              "0    Boy  21-25      University   Non Government         No      Yes   \n",
              "1   Girl  21-25      University   Non Government         No      Yes   \n",
              "2   Girl  16-20         College       Government         No      Yes   \n",
              "3   Girl  11-15          School   Non Government         No      Yes   \n",
              "4   Girl  16-20          School   Non Government         No      Yes   \n",
              "\n",
              "  Load-shedding Financial Condition Internet Type Network Type Class Duration  \\\n",
              "0           Low                 Mid          Wifi           4G            3-6   \n",
              "1          High                 Mid   Mobile Data           4G            1-3   \n",
              "2           Low                 Mid          Wifi           4G            1-3   \n",
              "3           Low                 Mid   Mobile Data           4G            1-3   \n",
              "4           Low                Poor   Mobile Data           3G              0   \n",
              "\n",
              "  Self Lms  Device Adaptivity Level  \n",
              "0       No     Tab         Moderate  \n",
              "1      Yes  Mobile         Moderate  \n",
              "2       No  Mobile         Moderate  \n",
              "3       No  Mobile         Moderate  \n",
              "4       No  Mobile              Low  "
            ],
            "text/html": [
              "\n",
              "\n",
              "  <div id=\"df-f1dfb018-37e0-44c9-89d0-0f1d06385d1e\">\n",
              "    <div class=\"colab-df-container\">\n",
              "      <div>\n",
              "<style scoped>\n",
              "    .dataframe tbody tr th:only-of-type {\n",
              "        vertical-align: middle;\n",
              "    }\n",
              "\n",
              "    .dataframe tbody tr th {\n",
              "        vertical-align: top;\n",
              "    }\n",
              "\n",
              "    .dataframe thead th {\n",
              "        text-align: right;\n",
              "    }\n",
              "</style>\n",
              "<table border=\"1\" class=\"dataframe\">\n",
              "  <thead>\n",
              "    <tr style=\"text-align: right;\">\n",
              "      <th></th>\n",
              "      <th>Gender</th>\n",
              "      <th>Age</th>\n",
              "      <th>Education Level</th>\n",
              "      <th>Institution Type</th>\n",
              "      <th>IT Student</th>\n",
              "      <th>Location</th>\n",
              "      <th>Load-shedding</th>\n",
              "      <th>Financial Condition</th>\n",
              "      <th>Internet Type</th>\n",
              "      <th>Network Type</th>\n",
              "      <th>Class Duration</th>\n",
              "      <th>Self Lms</th>\n",
              "      <th>Device</th>\n",
              "      <th>Adaptivity Level</th>\n",
              "    </tr>\n",
              "  </thead>\n",
              "  <tbody>\n",
              "    <tr>\n",
              "      <th>0</th>\n",
              "      <td>Boy</td>\n",
              "      <td>21-25</td>\n",
              "      <td>University</td>\n",
              "      <td>Non Government</td>\n",
              "      <td>No</td>\n",
              "      <td>Yes</td>\n",
              "      <td>Low</td>\n",
              "      <td>Mid</td>\n",
              "      <td>Wifi</td>\n",
              "      <td>4G</td>\n",
              "      <td>3-6</td>\n",
              "      <td>No</td>\n",
              "      <td>Tab</td>\n",
              "      <td>Moderate</td>\n",
              "    </tr>\n",
              "    <tr>\n",
              "      <th>1</th>\n",
              "      <td>Girl</td>\n",
              "      <td>21-25</td>\n",
              "      <td>University</td>\n",
              "      <td>Non Government</td>\n",
              "      <td>No</td>\n",
              "      <td>Yes</td>\n",
              "      <td>High</td>\n",
              "      <td>Mid</td>\n",
              "      <td>Mobile Data</td>\n",
              "      <td>4G</td>\n",
              "      <td>1-3</td>\n",
              "      <td>Yes</td>\n",
              "      <td>Mobile</td>\n",
              "      <td>Moderate</td>\n",
              "    </tr>\n",
              "    <tr>\n",
              "      <th>2</th>\n",
              "      <td>Girl</td>\n",
              "      <td>16-20</td>\n",
              "      <td>College</td>\n",
              "      <td>Government</td>\n",
              "      <td>No</td>\n",
              "      <td>Yes</td>\n",
              "      <td>Low</td>\n",
              "      <td>Mid</td>\n",
              "      <td>Wifi</td>\n",
              "      <td>4G</td>\n",
              "      <td>1-3</td>\n",
              "      <td>No</td>\n",
              "      <td>Mobile</td>\n",
              "      <td>Moderate</td>\n",
              "    </tr>\n",
              "    <tr>\n",
              "      <th>3</th>\n",
              "      <td>Girl</td>\n",
              "      <td>11-15</td>\n",
              "      <td>School</td>\n",
              "      <td>Non Government</td>\n",
              "      <td>No</td>\n",
              "      <td>Yes</td>\n",
              "      <td>Low</td>\n",
              "      <td>Mid</td>\n",
              "      <td>Mobile Data</td>\n",
              "      <td>4G</td>\n",
              "      <td>1-3</td>\n",
              "      <td>No</td>\n",
              "      <td>Mobile</td>\n",
              "      <td>Moderate</td>\n",
              "    </tr>\n",
              "    <tr>\n",
              "      <th>4</th>\n",
              "      <td>Girl</td>\n",
              "      <td>16-20</td>\n",
              "      <td>School</td>\n",
              "      <td>Non Government</td>\n",
              "      <td>No</td>\n",
              "      <td>Yes</td>\n",
              "      <td>Low</td>\n",
              "      <td>Poor</td>\n",
              "      <td>Mobile Data</td>\n",
              "      <td>3G</td>\n",
              "      <td>0</td>\n",
              "      <td>No</td>\n",
              "      <td>Mobile</td>\n",
              "      <td>Low</td>\n",
              "    </tr>\n",
              "  </tbody>\n",
              "</table>\n",
              "</div>\n",
              "      <button class=\"colab-df-convert\" onclick=\"convertToInteractive('df-f1dfb018-37e0-44c9-89d0-0f1d06385d1e')\"\n",
              "              title=\"Convert this dataframe to an interactive table.\"\n",
              "              style=\"display:none;\">\n",
              "\n",
              "  <svg xmlns=\"http://www.w3.org/2000/svg\" height=\"24px\"viewBox=\"0 0 24 24\"\n",
              "       width=\"24px\">\n",
              "    <path d=\"M0 0h24v24H0V0z\" fill=\"none\"/>\n",
              "    <path d=\"M18.56 5.44l.94 2.06.94-2.06 2.06-.94-2.06-.94-.94-2.06-.94 2.06-2.06.94zm-11 1L8.5 8.5l.94-2.06 2.06-.94-2.06-.94L8.5 2.5l-.94 2.06-2.06.94zm10 10l.94 2.06.94-2.06 2.06-.94-2.06-.94-.94-2.06-.94 2.06-2.06.94z\"/><path d=\"M17.41 7.96l-1.37-1.37c-.4-.4-.92-.59-1.43-.59-.52 0-1.04.2-1.43.59L10.3 9.45l-7.72 7.72c-.78.78-.78 2.05 0 2.83L4 21.41c.39.39.9.59 1.41.59.51 0 1.02-.2 1.41-.59l7.78-7.78 2.81-2.81c.8-.78.8-2.07 0-2.86zM5.41 20L4 18.59l7.72-7.72 1.47 1.35L5.41 20z\"/>\n",
              "  </svg>\n",
              "      </button>\n",
              "\n",
              "\n",
              "\n",
              "    <div id=\"df-d54a14e0-4a14-4012-bede-7bd2f66bf2cc\">\n",
              "      <button class=\"colab-df-quickchart\" onclick=\"quickchart('df-d54a14e0-4a14-4012-bede-7bd2f66bf2cc')\"\n",
              "              title=\"Suggest charts.\"\n",
              "              style=\"display:none;\">\n",
              "\n",
              "<svg xmlns=\"http://www.w3.org/2000/svg\" height=\"24px\"viewBox=\"0 0 24 24\"\n",
              "     width=\"24px\">\n",
              "    <g>\n",
              "        <path d=\"M19 3H5c-1.1 0-2 .9-2 2v14c0 1.1.9 2 2 2h14c1.1 0 2-.9 2-2V5c0-1.1-.9-2-2-2zM9 17H7v-7h2v7zm4 0h-2V7h2v10zm4 0h-2v-4h2v4z\"/>\n",
              "    </g>\n",
              "</svg>\n",
              "      </button>\n",
              "    </div>\n",
              "\n",
              "<style>\n",
              "  .colab-df-quickchart {\n",
              "    background-color: #E8F0FE;\n",
              "    border: none;\n",
              "    border-radius: 50%;\n",
              "    cursor: pointer;\n",
              "    display: none;\n",
              "    fill: #1967D2;\n",
              "    height: 32px;\n",
              "    padding: 0 0 0 0;\n",
              "    width: 32px;\n",
              "  }\n",
              "\n",
              "  .colab-df-quickchart:hover {\n",
              "    background-color: #E2EBFA;\n",
              "    box-shadow: 0px 1px 2px rgba(60, 64, 67, 0.3), 0px 1px 3px 1px rgba(60, 64, 67, 0.15);\n",
              "    fill: #174EA6;\n",
              "  }\n",
              "\n",
              "  [theme=dark] .colab-df-quickchart {\n",
              "    background-color: #3B4455;\n",
              "    fill: #D2E3FC;\n",
              "  }\n",
              "\n",
              "  [theme=dark] .colab-df-quickchart:hover {\n",
              "    background-color: #434B5C;\n",
              "    box-shadow: 0px 1px 3px 1px rgba(0, 0, 0, 0.15);\n",
              "    filter: drop-shadow(0px 1px 2px rgba(0, 0, 0, 0.3));\n",
              "    fill: #FFFFFF;\n",
              "  }\n",
              "</style>\n",
              "\n",
              "    <script>\n",
              "      async function quickchart(key) {\n",
              "        const containerElement = document.querySelector('#' + key);\n",
              "        const charts = await google.colab.kernel.invokeFunction(\n",
              "            'suggestCharts', [key], {});\n",
              "      }\n",
              "    </script>\n",
              "\n",
              "      <script>\n",
              "\n",
              "function displayQuickchartButton(domScope) {\n",
              "  let quickchartButtonEl =\n",
              "    domScope.querySelector('#df-d54a14e0-4a14-4012-bede-7bd2f66bf2cc button.colab-df-quickchart');\n",
              "  quickchartButtonEl.style.display =\n",
              "    google.colab.kernel.accessAllowed ? 'block' : 'none';\n",
              "}\n",
              "\n",
              "        displayQuickchartButton(document);\n",
              "      </script>\n",
              "      <style>\n",
              "    .colab-df-container {\n",
              "      display:flex;\n",
              "      flex-wrap:wrap;\n",
              "      gap: 12px;\n",
              "    }\n",
              "\n",
              "    .colab-df-convert {\n",
              "      background-color: #E8F0FE;\n",
              "      border: none;\n",
              "      border-radius: 50%;\n",
              "      cursor: pointer;\n",
              "      display: none;\n",
              "      fill: #1967D2;\n",
              "      height: 32px;\n",
              "      padding: 0 0 0 0;\n",
              "      width: 32px;\n",
              "    }\n",
              "\n",
              "    .colab-df-convert:hover {\n",
              "      background-color: #E2EBFA;\n",
              "      box-shadow: 0px 1px 2px rgba(60, 64, 67, 0.3), 0px 1px 3px 1px rgba(60, 64, 67, 0.15);\n",
              "      fill: #174EA6;\n",
              "    }\n",
              "\n",
              "    [theme=dark] .colab-df-convert {\n",
              "      background-color: #3B4455;\n",
              "      fill: #D2E3FC;\n",
              "    }\n",
              "\n",
              "    [theme=dark] .colab-df-convert:hover {\n",
              "      background-color: #434B5C;\n",
              "      box-shadow: 0px 1px 3px 1px rgba(0, 0, 0, 0.15);\n",
              "      filter: drop-shadow(0px 1px 2px rgba(0, 0, 0, 0.3));\n",
              "      fill: #FFFFFF;\n",
              "    }\n",
              "  </style>\n",
              "\n",
              "      <script>\n",
              "        const buttonEl =\n",
              "          document.querySelector('#df-f1dfb018-37e0-44c9-89d0-0f1d06385d1e button.colab-df-convert');\n",
              "        buttonEl.style.display =\n",
              "          google.colab.kernel.accessAllowed ? 'block' : 'none';\n",
              "\n",
              "        async function convertToInteractive(key) {\n",
              "          const element = document.querySelector('#df-f1dfb018-37e0-44c9-89d0-0f1d06385d1e');\n",
              "          const dataTable =\n",
              "            await google.colab.kernel.invokeFunction('convertToInteractive',\n",
              "                                                     [key], {});\n",
              "          if (!dataTable) return;\n",
              "\n",
              "          const docLinkHtml = 'Like what you see? Visit the ' +\n",
              "            '<a target=\"_blank\" href=https://colab.research.google.com/notebooks/data_table.ipynb>data table notebook</a>'\n",
              "            + ' to learn more about interactive tables.';\n",
              "          element.innerHTML = '';\n",
              "          dataTable['output_type'] = 'display_data';\n",
              "          await google.colab.output.renderOutput(dataTable, element);\n",
              "          const docLink = document.createElement('div');\n",
              "          docLink.innerHTML = docLinkHtml;\n",
              "          element.appendChild(docLink);\n",
              "        }\n",
              "      </script>\n",
              "    </div>\n",
              "  </div>\n"
            ]
          },
          "metadata": {},
          "execution_count": 5
        }
      ]
    },
    {
      "cell_type": "code",
      "source": [
        "# Looking for no. of rows and column\n",
        "df.shape"
      ],
      "metadata": {
        "colab": {
          "base_uri": "https://localhost:8080/"
        },
        "id": "rP5ell-LHTUm",
        "outputId": "ee21818d-c467-4fad-a260-1ab098683039"
      },
      "execution_count": 6,
      "outputs": [
        {
          "output_type": "execute_result",
          "data": {
            "text/plain": [
              "(1205, 14)"
            ]
          },
          "metadata": {},
          "execution_count": 6
        }
      ]
    },
    {
      "cell_type": "code",
      "source": [
        "# cheaking datatype of all columns\n",
        "df.info()"
      ],
      "metadata": {
        "colab": {
          "base_uri": "https://localhost:8080/"
        },
        "id": "OCdII5QQHZzj",
        "outputId": "02ff5062-4aae-44ee-bd07-5c9027b2d1bc"
      },
      "execution_count": 7,
      "outputs": [
        {
          "output_type": "stream",
          "name": "stdout",
          "text": [
            "<class 'pandas.core.frame.DataFrame'>\n",
            "RangeIndex: 1205 entries, 0 to 1204\n",
            "Data columns (total 14 columns):\n",
            " #   Column               Non-Null Count  Dtype \n",
            "---  ------               --------------  ----- \n",
            " 0   Gender               1205 non-null   object\n",
            " 1   Age                  1205 non-null   object\n",
            " 2   Education Level      1205 non-null   object\n",
            " 3   Institution Type     1205 non-null   object\n",
            " 4   IT Student           1205 non-null   object\n",
            " 5   Location             1205 non-null   object\n",
            " 6   Load-shedding        1205 non-null   object\n",
            " 7   Financial Condition  1205 non-null   object\n",
            " 8   Internet Type        1205 non-null   object\n",
            " 9   Network Type         1205 non-null   object\n",
            " 10  Class Duration       1205 non-null   object\n",
            " 11  Self Lms             1205 non-null   object\n",
            " 12  Device               1205 non-null   object\n",
            " 13  Adaptivity Level     1205 non-null   object\n",
            "dtypes: object(14)\n",
            "memory usage: 131.9+ KB\n"
          ]
        }
      ]
    },
    {
      "cell_type": "code",
      "source": [
        "#cheaking missing value\n",
        "\n",
        "df.isnull().sum()"
      ],
      "metadata": {
        "colab": {
          "base_uri": "https://localhost:8080/"
        },
        "id": "0koN_iidHceK",
        "outputId": "2c4f5f7f-0978-443c-bbb6-085a33aa4525"
      },
      "execution_count": 8,
      "outputs": [
        {
          "output_type": "execute_result",
          "data": {
            "text/plain": [
              "Gender                 0\n",
              "Age                    0\n",
              "Education Level        0\n",
              "Institution Type       0\n",
              "IT Student             0\n",
              "Location               0\n",
              "Load-shedding          0\n",
              "Financial Condition    0\n",
              "Internet Type          0\n",
              "Network Type           0\n",
              "Class Duration         0\n",
              "Self Lms               0\n",
              "Device                 0\n",
              "Adaptivity Level       0\n",
              "dtype: int64"
            ]
          },
          "metadata": {},
          "execution_count": 8
        }
      ]
    },
    {
      "cell_type": "markdown",
      "source": [
        "**Not any missing value**"
      ],
      "metadata": {
        "id": "dHQ709CyHjqZ"
      }
    },
    {
      "cell_type": "code",
      "source": [
        "#Describing the dataset\n",
        "\n",
        "df.describe().T\n",
        "\n",
        "#we transposed the dataframe for better view"
      ],
      "metadata": {
        "colab": {
          "base_uri": "https://localhost:8080/",
          "height": 488
        },
        "id": "3RFfEonnHftD",
        "outputId": "33ba4e2d-4758-48eb-85e2-410fd5c93898"
      },
      "execution_count": 9,
      "outputs": [
        {
          "output_type": "execute_result",
          "data": {
            "text/plain": [
              "                    count unique             top  freq\n",
              "Gender               1205      2             Boy   663\n",
              "Age                  1205      6           21-25   374\n",
              "Education Level      1205      3          School   530\n",
              "Institution Type     1205      2  Non Government   823\n",
              "IT Student           1205      2              No   901\n",
              "Location             1205      2             Yes   935\n",
              "Load-shedding        1205      2             Low  1004\n",
              "Financial Condition  1205      3             Mid   878\n",
              "Internet Type        1205      2     Mobile Data   695\n",
              "Network Type         1205      3              4G   775\n",
              "Class Duration       1205      3             1-3   840\n",
              "Self Lms             1205      2              No   995\n",
              "Device               1205      3          Mobile  1013\n",
              "Adaptivity Level     1205      3        Moderate   625"
            ],
            "text/html": [
              "\n",
              "\n",
              "  <div id=\"df-b3bc2cd5-cb26-4540-81cb-6f790a95b7a3\">\n",
              "    <div class=\"colab-df-container\">\n",
              "      <div>\n",
              "<style scoped>\n",
              "    .dataframe tbody tr th:only-of-type {\n",
              "        vertical-align: middle;\n",
              "    }\n",
              "\n",
              "    .dataframe tbody tr th {\n",
              "        vertical-align: top;\n",
              "    }\n",
              "\n",
              "    .dataframe thead th {\n",
              "        text-align: right;\n",
              "    }\n",
              "</style>\n",
              "<table border=\"1\" class=\"dataframe\">\n",
              "  <thead>\n",
              "    <tr style=\"text-align: right;\">\n",
              "      <th></th>\n",
              "      <th>count</th>\n",
              "      <th>unique</th>\n",
              "      <th>top</th>\n",
              "      <th>freq</th>\n",
              "    </tr>\n",
              "  </thead>\n",
              "  <tbody>\n",
              "    <tr>\n",
              "      <th>Gender</th>\n",
              "      <td>1205</td>\n",
              "      <td>2</td>\n",
              "      <td>Boy</td>\n",
              "      <td>663</td>\n",
              "    </tr>\n",
              "    <tr>\n",
              "      <th>Age</th>\n",
              "      <td>1205</td>\n",
              "      <td>6</td>\n",
              "      <td>21-25</td>\n",
              "      <td>374</td>\n",
              "    </tr>\n",
              "    <tr>\n",
              "      <th>Education Level</th>\n",
              "      <td>1205</td>\n",
              "      <td>3</td>\n",
              "      <td>School</td>\n",
              "      <td>530</td>\n",
              "    </tr>\n",
              "    <tr>\n",
              "      <th>Institution Type</th>\n",
              "      <td>1205</td>\n",
              "      <td>2</td>\n",
              "      <td>Non Government</td>\n",
              "      <td>823</td>\n",
              "    </tr>\n",
              "    <tr>\n",
              "      <th>IT Student</th>\n",
              "      <td>1205</td>\n",
              "      <td>2</td>\n",
              "      <td>No</td>\n",
              "      <td>901</td>\n",
              "    </tr>\n",
              "    <tr>\n",
              "      <th>Location</th>\n",
              "      <td>1205</td>\n",
              "      <td>2</td>\n",
              "      <td>Yes</td>\n",
              "      <td>935</td>\n",
              "    </tr>\n",
              "    <tr>\n",
              "      <th>Load-shedding</th>\n",
              "      <td>1205</td>\n",
              "      <td>2</td>\n",
              "      <td>Low</td>\n",
              "      <td>1004</td>\n",
              "    </tr>\n",
              "    <tr>\n",
              "      <th>Financial Condition</th>\n",
              "      <td>1205</td>\n",
              "      <td>3</td>\n",
              "      <td>Mid</td>\n",
              "      <td>878</td>\n",
              "    </tr>\n",
              "    <tr>\n",
              "      <th>Internet Type</th>\n",
              "      <td>1205</td>\n",
              "      <td>2</td>\n",
              "      <td>Mobile Data</td>\n",
              "      <td>695</td>\n",
              "    </tr>\n",
              "    <tr>\n",
              "      <th>Network Type</th>\n",
              "      <td>1205</td>\n",
              "      <td>3</td>\n",
              "      <td>4G</td>\n",
              "      <td>775</td>\n",
              "    </tr>\n",
              "    <tr>\n",
              "      <th>Class Duration</th>\n",
              "      <td>1205</td>\n",
              "      <td>3</td>\n",
              "      <td>1-3</td>\n",
              "      <td>840</td>\n",
              "    </tr>\n",
              "    <tr>\n",
              "      <th>Self Lms</th>\n",
              "      <td>1205</td>\n",
              "      <td>2</td>\n",
              "      <td>No</td>\n",
              "      <td>995</td>\n",
              "    </tr>\n",
              "    <tr>\n",
              "      <th>Device</th>\n",
              "      <td>1205</td>\n",
              "      <td>3</td>\n",
              "      <td>Mobile</td>\n",
              "      <td>1013</td>\n",
              "    </tr>\n",
              "    <tr>\n",
              "      <th>Adaptivity Level</th>\n",
              "      <td>1205</td>\n",
              "      <td>3</td>\n",
              "      <td>Moderate</td>\n",
              "      <td>625</td>\n",
              "    </tr>\n",
              "  </tbody>\n",
              "</table>\n",
              "</div>\n",
              "      <button class=\"colab-df-convert\" onclick=\"convertToInteractive('df-b3bc2cd5-cb26-4540-81cb-6f790a95b7a3')\"\n",
              "              title=\"Convert this dataframe to an interactive table.\"\n",
              "              style=\"display:none;\">\n",
              "\n",
              "  <svg xmlns=\"http://www.w3.org/2000/svg\" height=\"24px\"viewBox=\"0 0 24 24\"\n",
              "       width=\"24px\">\n",
              "    <path d=\"M0 0h24v24H0V0z\" fill=\"none\"/>\n",
              "    <path d=\"M18.56 5.44l.94 2.06.94-2.06 2.06-.94-2.06-.94-.94-2.06-.94 2.06-2.06.94zm-11 1L8.5 8.5l.94-2.06 2.06-.94-2.06-.94L8.5 2.5l-.94 2.06-2.06.94zm10 10l.94 2.06.94-2.06 2.06-.94-2.06-.94-.94-2.06-.94 2.06-2.06.94z\"/><path d=\"M17.41 7.96l-1.37-1.37c-.4-.4-.92-.59-1.43-.59-.52 0-1.04.2-1.43.59L10.3 9.45l-7.72 7.72c-.78.78-.78 2.05 0 2.83L4 21.41c.39.39.9.59 1.41.59.51 0 1.02-.2 1.41-.59l7.78-7.78 2.81-2.81c.8-.78.8-2.07 0-2.86zM5.41 20L4 18.59l7.72-7.72 1.47 1.35L5.41 20z\"/>\n",
              "  </svg>\n",
              "      </button>\n",
              "\n",
              "\n",
              "\n",
              "    <div id=\"df-dbae1513-c5b6-4e32-b29b-cf8cb8ec1d0b\">\n",
              "      <button class=\"colab-df-quickchart\" onclick=\"quickchart('df-dbae1513-c5b6-4e32-b29b-cf8cb8ec1d0b')\"\n",
              "              title=\"Suggest charts.\"\n",
              "              style=\"display:none;\">\n",
              "\n",
              "<svg xmlns=\"http://www.w3.org/2000/svg\" height=\"24px\"viewBox=\"0 0 24 24\"\n",
              "     width=\"24px\">\n",
              "    <g>\n",
              "        <path d=\"M19 3H5c-1.1 0-2 .9-2 2v14c0 1.1.9 2 2 2h14c1.1 0 2-.9 2-2V5c0-1.1-.9-2-2-2zM9 17H7v-7h2v7zm4 0h-2V7h2v10zm4 0h-2v-4h2v4z\"/>\n",
              "    </g>\n",
              "</svg>\n",
              "      </button>\n",
              "    </div>\n",
              "\n",
              "<style>\n",
              "  .colab-df-quickchart {\n",
              "    background-color: #E8F0FE;\n",
              "    border: none;\n",
              "    border-radius: 50%;\n",
              "    cursor: pointer;\n",
              "    display: none;\n",
              "    fill: #1967D2;\n",
              "    height: 32px;\n",
              "    padding: 0 0 0 0;\n",
              "    width: 32px;\n",
              "  }\n",
              "\n",
              "  .colab-df-quickchart:hover {\n",
              "    background-color: #E2EBFA;\n",
              "    box-shadow: 0px 1px 2px rgba(60, 64, 67, 0.3), 0px 1px 3px 1px rgba(60, 64, 67, 0.15);\n",
              "    fill: #174EA6;\n",
              "  }\n",
              "\n",
              "  [theme=dark] .colab-df-quickchart {\n",
              "    background-color: #3B4455;\n",
              "    fill: #D2E3FC;\n",
              "  }\n",
              "\n",
              "  [theme=dark] .colab-df-quickchart:hover {\n",
              "    background-color: #434B5C;\n",
              "    box-shadow: 0px 1px 3px 1px rgba(0, 0, 0, 0.15);\n",
              "    filter: drop-shadow(0px 1px 2px rgba(0, 0, 0, 0.3));\n",
              "    fill: #FFFFFF;\n",
              "  }\n",
              "</style>\n",
              "\n",
              "    <script>\n",
              "      async function quickchart(key) {\n",
              "        const containerElement = document.querySelector('#' + key);\n",
              "        const charts = await google.colab.kernel.invokeFunction(\n",
              "            'suggestCharts', [key], {});\n",
              "      }\n",
              "    </script>\n",
              "\n",
              "      <script>\n",
              "\n",
              "function displayQuickchartButton(domScope) {\n",
              "  let quickchartButtonEl =\n",
              "    domScope.querySelector('#df-dbae1513-c5b6-4e32-b29b-cf8cb8ec1d0b button.colab-df-quickchart');\n",
              "  quickchartButtonEl.style.display =\n",
              "    google.colab.kernel.accessAllowed ? 'block' : 'none';\n",
              "}\n",
              "\n",
              "        displayQuickchartButton(document);\n",
              "      </script>\n",
              "      <style>\n",
              "    .colab-df-container {\n",
              "      display:flex;\n",
              "      flex-wrap:wrap;\n",
              "      gap: 12px;\n",
              "    }\n",
              "\n",
              "    .colab-df-convert {\n",
              "      background-color: #E8F0FE;\n",
              "      border: none;\n",
              "      border-radius: 50%;\n",
              "      cursor: pointer;\n",
              "      display: none;\n",
              "      fill: #1967D2;\n",
              "      height: 32px;\n",
              "      padding: 0 0 0 0;\n",
              "      width: 32px;\n",
              "    }\n",
              "\n",
              "    .colab-df-convert:hover {\n",
              "      background-color: #E2EBFA;\n",
              "      box-shadow: 0px 1px 2px rgba(60, 64, 67, 0.3), 0px 1px 3px 1px rgba(60, 64, 67, 0.15);\n",
              "      fill: #174EA6;\n",
              "    }\n",
              "\n",
              "    [theme=dark] .colab-df-convert {\n",
              "      background-color: #3B4455;\n",
              "      fill: #D2E3FC;\n",
              "    }\n",
              "\n",
              "    [theme=dark] .colab-df-convert:hover {\n",
              "      background-color: #434B5C;\n",
              "      box-shadow: 0px 1px 3px 1px rgba(0, 0, 0, 0.15);\n",
              "      filter: drop-shadow(0px 1px 2px rgba(0, 0, 0, 0.3));\n",
              "      fill: #FFFFFF;\n",
              "    }\n",
              "  </style>\n",
              "\n",
              "      <script>\n",
              "        const buttonEl =\n",
              "          document.querySelector('#df-b3bc2cd5-cb26-4540-81cb-6f790a95b7a3 button.colab-df-convert');\n",
              "        buttonEl.style.display =\n",
              "          google.colab.kernel.accessAllowed ? 'block' : 'none';\n",
              "\n",
              "        async function convertToInteractive(key) {\n",
              "          const element = document.querySelector('#df-b3bc2cd5-cb26-4540-81cb-6f790a95b7a3');\n",
              "          const dataTable =\n",
              "            await google.colab.kernel.invokeFunction('convertToInteractive',\n",
              "                                                     [key], {});\n",
              "          if (!dataTable) return;\n",
              "\n",
              "          const docLinkHtml = 'Like what you see? Visit the ' +\n",
              "            '<a target=\"_blank\" href=https://colab.research.google.com/notebooks/data_table.ipynb>data table notebook</a>'\n",
              "            + ' to learn more about interactive tables.';\n",
              "          element.innerHTML = '';\n",
              "          dataTable['output_type'] = 'display_data';\n",
              "          await google.colab.output.renderOutput(dataTable, element);\n",
              "          const docLink = document.createElement('div');\n",
              "          docLink.innerHTML = docLinkHtml;\n",
              "          element.appendChild(docLink);\n",
              "        }\n",
              "      </script>\n",
              "    </div>\n",
              "  </div>\n"
            ]
          },
          "metadata": {},
          "execution_count": 9
        }
      ]
    },
    {
      "cell_type": "code",
      "source": [
        "# Pie chart show % adaptivity level in dataset\n",
        "\n",
        "plt.figure(figsize=(8,6))\n",
        "df['Adaptivity Level'].value_counts().plot.pie(autopct='%1.1f%%' ,shadow=True)"
      ],
      "metadata": {
        "colab": {
          "base_uri": "https://localhost:8080/",
          "height": 516
        },
        "id": "FCUNz-qbHovw",
        "outputId": "20a6f605-8c37-42e5-d839-cfeba57d7840"
      },
      "execution_count": 10,
      "outputs": [
        {
          "output_type": "execute_result",
          "data": {
            "text/plain": [
              "<Axes: ylabel='Adaptivity Level'>"
            ]
          },
          "metadata": {},
          "execution_count": 10
        },
        {
          "output_type": "display_data",
          "data": {
            "text/plain": [
              "<Figure size 800x600 with 1 Axes>"
            ],
            "image/png": "[encoded data removed]"
          },
          "metadata": {}
        }
      ]
    },
    {
      "cell_type": "markdown",
      "source": [
        "The percentage Adaptivity Level in Dataset\n",
        "\n",
        " **Low = 39.8%**\n",
        "\n",
        " **Moderate = 51.9%**\n",
        "\n",
        " **High = 8.3 %**"
      ],
      "metadata": {
        "id": "9f5oTS6LH2gq"
      }
    },
    {
      "cell_type": "code",
      "source": [
        "# Show the Device using in Dataset\n",
        "\n",
        "plt.figure( figsize=(8,6))\n",
        "\n",
        "df['Device'].value_counts().plot.pie(autopct='%1.1f%%', shadow=True)"
      ],
      "metadata": {
        "colab": {
          "base_uri": "https://localhost:8080/",
          "height": 516
        },
        "id": "Zs0OEtcKHxvC",
        "outputId": "327e6eab-163a-46a0-e1ab-d52eb06ee5c4"
      },
      "execution_count": 11,
      "outputs": [
        {
          "output_type": "execute_result",
          "data": {
            "text/plain": [
              "<Axes: ylabel='Device'>"
            ]
          },
          "metadata": {},
          "execution_count": 11
        },
        {
          "output_type": "display_data",
          "data": {
            "text/plain": [
              "<Figure size 800x600 with 1 Axes>"
            ],
            "image/png": "[encoded data removed]"
          },
          "metadata": {}
        }
      ]
    },
    {
      "cell_type": "markdown",
      "source": [
        "The Device using in Dataset\n",
        "\n",
        " **Mobile = 84.1%**\n",
        "\n",
        "**Computer = 13.4%**\n",
        "\n",
        " **Tab = 2.5%**"
      ],
      "metadata": {
        "id": "-Lgsz27mIS6t"
      }
    },
    {
      "cell_type": "code",
      "source": [
        "# Show the effect Institution Type in Adaptivity Level using in Dataset\n",
        "\n",
        "plt.figure(figsize=(8,6))\n",
        "\n",
        "\n",
        "\n",
        "sns.countplot(x=df[\"Institution Type\"],hue=df[\"Adaptivity Level\"])"
      ],
      "metadata": {
        "colab": {
          "base_uri": "https://localhost:8080/",
          "height": 559
        },
        "id": "ie-2CYRXIOPQ",
        "outputId": "f05a3585-7e85-4360-d41e-ec6dd3c9a105"
      },
      "execution_count": 16,
      "outputs": [
        {
          "output_type": "execute_result",
          "data": {
            "text/plain": [
              "<Axes: xlabel='Institution Type', ylabel='count'>"
            ]
          },
          "metadata": {},
          "execution_count": 16
        },
        {
          "output_type": "display_data",
          "data": {
            "text/plain": [
              "<Figure size 800x600 with 1 Axes>"
            ],
            "image/png": "[encoded data removed]"
          },
          "metadata": {}
        }
      ]
    },
    {
      "cell_type": "markdown",
      "source": [
        "#### In general we can say that,\n",
        "**Affect on non Government - HIGH**\n",
        "\n",
        "**Affect on Government - LOW**"
      ],
      "metadata": {
        "id": "yNlqzye_L9Kw"
      }
    },
    {
      "cell_type": "code",
      "source": [
        "#Show the effect Financial Condition in Adaptivity Level using in Dataset\n",
        "\n",
        "plt.figure(figsize=(8,6))\n",
        "\n",
        "sns.countplot(x=df[\"Financial Condition\"],hue=df[\"Adaptivity Level\"])"
      ],
      "metadata": {
        "colab": {
          "base_uri": "https://localhost:8080/",
          "height": 559
        },
        "id": "oEMBJni8Ioss",
        "outputId": "97ac215c-a66b-410d-8c02-a235cb419676"
      },
      "execution_count": 17,
      "outputs": [
        {
          "output_type": "execute_result",
          "data": {
            "text/plain": [
              "<Axes: xlabel='Financial Condition', ylabel='count'>"
            ]
          },
          "metadata": {},
          "execution_count": 17
        },
        {
          "output_type": "display_data",
          "data": {
            "text/plain": [
              "<Figure size 800x600 with 1 Axes>"
            ],
            "image/png": "[encoded data removed]"
          },
          "metadata": {}
        }
      ]
    },
    {
      "cell_type": "markdown",
      "source": [
        "#### According to this data,\n",
        "\n",
        "**Middle Financial families Adaptivity - HIGH**\n",
        "\n",
        "**Poor and Rich Financial families Adaptivity - LOW**"
      ],
      "metadata": {
        "id": "UtLtvvsiMTij"
      }
    },
    {
      "cell_type": "code",
      "source": [
        "# Show the effect Gender in Adaptivity Level using in Dataset\n",
        "\n",
        "plt.figure(figsize=(8,6))\n",
        "\n",
        "sns.countplot(x=df[\"Gender\"],hue=df[\"Adaptivity Level\"])"
      ],
      "metadata": {
        "colab": {
          "base_uri": "https://localhost:8080/",
          "height": 559
        },
        "id": "U58JmqHYMJTU",
        "outputId": "d17e089a-0730-4e27-8495-ee79f662a192"
      },
      "execution_count": 18,
      "outputs": [
        {
          "output_type": "execute_result",
          "data": {
            "text/plain": [
              "<Axes: xlabel='Gender', ylabel='count'>"
            ]
          },
          "metadata": {},
          "execution_count": 18
        },
        {
          "output_type": "display_data",
          "data": {
            "text/plain": [
              "<Figure size 800x600 with 1 Axes>"
            ],
            "image/png": "[encoded data removed]"
          },
          "metadata": {}
        }
      ]
    },
    {
      "cell_type": "markdown",
      "source": [
        "**Not remarkable difference between the gender for Adaptivity Level**\n",
        "\n"
      ],
      "metadata": {
        "id": "QVzAYGqeMrIq"
      }
    },
    {
      "cell_type": "code",
      "source": [
        "# Show the effect Network Type in Adaptivity Level using in Dataset\n",
        "\n",
        "plt.figure(figsize=(8,6))\n",
        "sns.countplot(x=df[\"Network Type\"],hue=df[\"Adaptivity Level\"])"
      ],
      "metadata": {
        "colab": {
          "base_uri": "https://localhost:8080/",
          "height": 559
        },
        "id": "Em73ADZqMkB5",
        "outputId": "8e70cb71-a936-4bd3-f881-3138e917f7ce"
      },
      "execution_count": 19,
      "outputs": [
        {
          "output_type": "execute_result",
          "data": {
            "text/plain": [
              "<Axes: xlabel='Network Type', ylabel='count'>"
            ]
          },
          "metadata": {},
          "execution_count": 19
        },
        {
          "output_type": "display_data",
          "data": {
            "text/plain": [
              "<Figure size 800x600 with 1 Axes>"
            ],
            "image/png": "[encoded data removed]"
          },
          "metadata": {}
        }
      ]
    },
    {
      "cell_type": "markdown",
      "source": [
        "Most of the students using - 4G and its progress **Highest**\n",
        "\n",
        "Than 3G and 2G is  **lowest**"
      ],
      "metadata": {
        "id": "gCkZg-HZNUEl"
      }
    },
    {
      "cell_type": "markdown",
      "source": [
        "**Building a Machine Learning Model And Predict**"
      ],
      "metadata": {
        "id": "uQktv-szNvxp"
      }
    },
    {
      "cell_type": "code",
      "source": [
        "#Importing the basic librarires for building model - classification\n",
        "\n",
        "from sklearn.model_selection import train_test_split\n",
        "from sklearn.ensemble import RandomForestClassifier\n",
        "from sklearn.preprocessing import LabelEncoder,StandardScaler\n",
        "from sklearn.metrics import accuracy_score\n"
      ],
      "metadata": {
        "id": "ljHUGhN-NNEx"
      },
      "execution_count": 20,
      "outputs": []
    },
    {
      "cell_type": "code",
      "source": [
        "df.info()"
      ],
      "metadata": {
        "colab": {
          "base_uri": "https://localhost:8080/"
        },
        "id": "hteo5fywOEX2",
        "outputId": "c3897e12-41d0-468c-f866-07ed109d93b7"
      },
      "execution_count": 21,
      "outputs": [
        {
          "output_type": "stream",
          "name": "stdout",
          "text": [
            "<class 'pandas.core.frame.DataFrame'>\n",
            "RangeIndex: 1205 entries, 0 to 1204\n",
            "Data columns (total 14 columns):\n",
            " #   Column               Non-Null Count  Dtype \n",
            "---  ------               --------------  ----- \n",
            " 0   Gender               1205 non-null   object\n",
            " 1   Age                  1205 non-null   object\n",
            " 2   Education Level      1205 non-null   object\n",
            " 3   Institution Type     1205 non-null   object\n",
            " 4   IT Student           1205 non-null   object\n",
            " 5   Location             1205 non-null   object\n",
            " 6   Load-shedding        1205 non-null   object\n",
            " 7   Financial Condition  1205 non-null   object\n",
            " 8   Internet Type        1205 non-null   object\n",
            " 9   Network Type         1205 non-null   object\n",
            " 10  Class Duration       1205 non-null   object\n",
            " 11  Self Lms             1205 non-null   object\n",
            " 12  Device               1205 non-null   object\n",
            " 13  Adaptivity Level     1205 non-null   object\n",
            "dtypes: object(14)\n",
            "memory usage: 131.9+ KB\n"
          ]
        }
      ]
    },
    {
      "cell_type": "markdown",
      "source": [
        "**We need change all data type using LabelEncode**"
      ],
      "metadata": {
        "id": "c3dcfAsaORHa"
      }
    },
    {
      "cell_type": "code",
      "source": [
        "# change all data type using LabelEncode\n",
        "\n",
        "data=df\n",
        "\n",
        "label_encoders = {}\n",
        "categorical_columns = data.columns  # I would recommend using columns names here if you're using pandas. If you're using numpy then stick with range(n) instead\n",
        "\n",
        "for column in categorical_columns:\n",
        "    label_encoders[column] = LabelEncoder()\n",
        "    data[column] = label_encoders[column].fit_transform(data[column])"
      ],
      "metadata": {
        "id": "QWtCQCmOOIus"
      },
      "execution_count": 22,
      "outputs": []
    },
    {
      "cell_type": "code",
      "source": [
        "data.head()"
      ],
      "metadata": {
        "colab": {
          "base_uri": "https://localhost:8080/",
          "height": 267
        },
        "id": "zofg2S1WOXqZ",
        "outputId": "28756aa1-83cb-4430-f4d1-6bfabf1b650d"
      },
      "execution_count": 23,
      "outputs": [
        {
          "output_type": "execute_result",
          "data": {
            "text/plain": [
              "   Gender  Age  Education Level  Institution Type  IT Student  Location  \\\n",
              "0       0    3                2                 1           0         1   \n",
              "1       1    3                2                 1           0         1   \n",
              "2       1    2                0                 0           0         1   \n",
              "3       1    1                1                 1           0         1   \n",
              "4       1    2                1                 1           0         1   \n",
              "\n",
              "   Load-shedding  Financial Condition  Internet Type  Network Type  \\\n",
              "0              1                    0              1             2   \n",
              "1              0                    0              0             2   \n",
              "2              1                    0              1             2   \n",
              "3              1                    0              0             2   \n",
              "4              1                    1              0             1   \n",
              "\n",
              "   Class Duration  Self Lms  Device  Adaptivity Level  \n",
              "0               2         0       2                 2  \n",
              "1               1         1       1                 2  \n",
              "2               1         0       1                 2  \n",
              "3               1         0       1                 2  \n",
              "4               0         0       1                 1  "
            ],
            "text/html": [
              "\n",
              "\n",
              "  <div id=\"df-7d0eddf6-0d66-4f93-8eb8-a8c5cad5130a\">\n",
              "    <div class=\"colab-df-container\">\n",
              "      <div>\n",
              "<style scoped>\n",
              "    .dataframe tbody tr th:only-of-type {\n",
              "        vertical-align: middle;\n",
              "    }\n",
              "\n",
              "    .dataframe tbody tr th {\n",
              "        vertical-align: top;\n",
              "    }\n",
              "\n",
              "    .dataframe thead th {\n",
              "        text-align: right;\n",
              "    }\n",
              "</style>\n",
              "<table border=\"1\" class=\"dataframe\">\n",
              "  <thead>\n",
              "    <tr style=\"text-align: right;\">\n",
              "      <th></th>\n",
              "      <th>Gender</th>\n",
              "      <th>Age</th>\n",
              "      <th>Education Level</th>\n",
              "      <th>Institution Type</th>\n",
              "      <th>IT Student</th>\n",
              "      <th>Location</th>\n",
              "      <th>Load-shedding</th>\n",
              "      <th>Financial Condition</th>\n",
              "      <th>Internet Type</th>\n",
              "      <th>Network Type</th>\n",
              "      <th>Class Duration</th>\n",
              "      <th>Self Lms</th>\n",
              "      <th>Device</th>\n",
              "      <th>Adaptivity Level</th>\n",
              "    </tr>\n",
              "  </thead>\n",
              "  <tbody>\n",
              "    <tr>\n",
              "      <th>0</th>\n",
              "      <td>0</td>\n",
              "      <td>3</td>\n",
              "      <td>2</td>\n",
              "      <td>1</td>\n",
              "      <td>0</td>\n",
              "      <td>1</td>\n",
              "      <td>1</td>\n",
              "      <td>0</td>\n",
              "      <td>1</td>\n",
              "      <td>2</td>\n",
              "      <td>2</td>\n",
              "      <td>0</td>\n",
              "      <td>2</td>\n",
              "      <td>2</td>\n",
              "    </tr>\n",
              "    <tr>\n",
              "      <th>1</th>\n",
              "      <td>1</td>\n",
              "      <td>3</td>\n",
              "      <td>2</td>\n",
              "      <td>1</td>\n",
              "      <td>0</td>\n",
              "      <td>1</td>\n",
              "      <td>0</td>\n",
              "      <td>0</td>\n",
              "      <td>0</td>\n",
              "      <td>2</td>\n",
              "      <td>1</td>\n",
              "      <td>1</td>\n",
              "      <td>1</td>\n",
              "      <td>2</td>\n",
              "    </tr>\n",
              "    <tr>\n",
              "      <th>2</th>\n",
              "      <td>1</td>\n",
              "      <td>2</td>\n",
              "      <td>0</td>\n",
              "      <td>0</td>\n",
              "      <td>0</td>\n",
              "      <td>1</td>\n",
              "      <td>1</td>\n",
              "      <td>0</td>\n",
              "      <td>1</td>\n",
              "      <td>2</td>\n",
              "      <td>1</td>\n",
              "      <td>0</td>\n",
              "      <td>1</td>\n",
              "      <td>2</td>\n",
              "    </tr>\n",
              "    <tr>\n",
              "      <th>3</th>\n",
              "      <td>1</td>\n",
              "      <td>1</td>\n",
              "      <td>1</td>\n",
              "      <td>1</td>\n",
              "      <td>0</td>\n",
              "      <td>1</td>\n",
              "      <td>1</td>\n",
              "      <td>0</td>\n",
              "      <td>0</td>\n",
              "      <td>2</td>\n",
              "      <td>1</td>\n",
              "      <td>0</td>\n",
              "      <td>1</td>\n",
              "      <td>2</td>\n",
              "    </tr>\n",
              "    <tr>\n",
              "      <th>4</th>\n",
              "      <td>1</td>\n",
              "      <td>2</td>\n",
              "      <td>1</td>\n",
              "      <td>1</td>\n",
              "      <td>0</td>\n",
              "      <td>1</td>\n",
              "      <td>1</td>\n",
              "      <td>1</td>\n",
              "      <td>0</td>\n",
              "      <td>1</td>\n",
              "      <td>0</td>\n",
              "      <td>0</td>\n",
              "      <td>1</td>\n",
              "      <td>1</td>\n",
              "    </tr>\n",
              "  </tbody>\n",
              "</table>\n",
              "</div>\n",
              "      <button class=\"colab-df-convert\" onclick=\"convertToInteractive('df-7d0eddf6-0d66-4f93-8eb8-a8c5cad5130a')\"\n",
              "              title=\"Convert this dataframe to an interactive table.\"\n",
              "              style=\"display:none;\">\n",
              "\n",
              "  <svg xmlns=\"http://www.w3.org/2000/svg\" height=\"24px\"viewBox=\"0 0 24 24\"\n",
              "       width=\"24px\">\n",
              "    <path d=\"M0 0h24v24H0V0z\" fill=\"none\"/>\n",
              "    <path d=\"M18.56 5.44l.94 2.06.94-2.06 2.06-.94-2.06-.94-.94-2.06-.94 2.06-2.06.94zm-11 1L8.5 8.5l.94-2.06 2.06-.94-2.06-.94L8.5 2.5l-.94 2.06-2.06.94zm10 10l.94 2.06.94-2.06 2.06-.94-2.06-.94-.94-2.06-.94 2.06-2.06.94z\"/><path d=\"M17.41 7.96l-1.37-1.37c-.4-.4-.92-.59-1.43-.59-.52 0-1.04.2-1.43.59L10.3 9.45l-7.72 7.72c-.78.78-.78 2.05 0 2.83L4 21.41c.39.39.9.59 1.41.59.51 0 1.02-.2 1.41-.59l7.78-7.78 2.81-2.81c.8-.78.8-2.07 0-2.86zM5.41 20L4 18.59l7.72-7.72 1.47 1.35L5.41 20z\"/>\n",
              "  </svg>\n",
              "      </button>\n",
              "\n",
              "\n",
              "\n",
              "    <div id=\"df-14d21378-7d27-4dde-ae8e-d02b9f57f4e5\">\n",
              "      <button class=\"colab-df-quickchart\" onclick=\"quickchart('df-14d21378-7d27-4dde-ae8e-d02b9f57f4e5')\"\n",
              "              title=\"Suggest charts.\"\n",
              "              style=\"display:none;\">\n",
              "\n",
              "<svg xmlns=\"http://www.w3.org/2000/svg\" height=\"24px\"viewBox=\"0 0 24 24\"\n",
              "     width=\"24px\">\n",
              "    <g>\n",
              "        <path d=\"M19 3H5c-1.1 0-2 .9-2 2v14c0 1.1.9 2 2 2h14c1.1 0 2-.9 2-2V5c0-1.1-.9-2-2-2zM9 17H7v-7h2v7zm4 0h-2V7h2v10zm4 0h-2v-4h2v4z\"/>\n",
              "    </g>\n",
              "</svg>\n",
              "      </button>\n",
              "    </div>\n",
              "\n",
              "<style>\n",
              "  .colab-df-quickchart {\n",
              "    background-color: #E8F0FE;\n",
              "    border: none;\n",
              "    border-radius: 50%;\n",
              "    cursor: pointer;\n",
              "    display: none;\n",
              "    fill: #1967D2;\n",
              "    height: 32px;\n",
              "    padding: 0 0 0 0;\n",
              "    width: 32px;\n",
              "  }\n",
              "\n",
              "  .colab-df-quickchart:hover {\n",
              "    background-color: #E2EBFA;\n",
              "    box-shadow: 0px 1px 2px rgba(60, 64, 67, 0.3), 0px 1px 3px 1px rgba(60, 64, 67, 0.15);\n",
              "    fill: #174EA6;\n",
              "  }\n",
              "\n",
              "  [theme=dark] .colab-df-quickchart {\n",
              "    background-color: #3B4455;\n",
              "    fill: #D2E3FC;\n",
              "  }\n",
              "\n",
              "  [theme=dark] .colab-df-quickchart:hover {\n",
              "    background-color: #434B5C;\n",
              "    box-shadow: 0px 1px 3px 1px rgba(0, 0, 0, 0.15);\n",
              "    filter: drop-shadow(0px 1px 2px rgba(0, 0, 0, 0.3));\n",
              "    fill: #FFFFFF;\n",
              "  }\n",
              "</style>\n",
              "\n",
              "    <script>\n",
              "      async function quickchart(key) {\n",
              "        const containerElement = document.querySelector('#' + key);\n",
              "        const charts = await google.colab.kernel.invokeFunction(\n",
              "            'suggestCharts', [key], {});\n",
              "      }\n",
              "    </script>\n",
              "\n",
              "      <script>\n",
              "\n",
              "function displayQuickchartButton(domScope) {\n",
              "  let quickchartButtonEl =\n",
              "    domScope.querySelector('#df-14d21378-7d27-4dde-ae8e-d02b9f57f4e5 button.colab-df-quickchart');\n",
              "  quickchartButtonEl.style.display =\n",
              "    google.colab.kernel.accessAllowed ? 'block' : 'none';\n",
              "}\n",
              "\n",
              "        displayQuickchartButton(document);\n",
              "      </script>\n",
              "      <style>\n",
              "    .colab-df-container {\n",
              "      display:flex;\n",
              "      flex-wrap:wrap;\n",
              "      gap: 12px;\n",
              "    }\n",
              "\n",
              "    .colab-df-convert {\n",
              "      background-color: #E8F0FE;\n",
              "      border: none;\n",
              "      border-radius: 50%;\n",
              "      cursor: pointer;\n",
              "      display: none;\n",
              "      fill: #1967D2;\n",
              "      height: 32px;\n",
              "      padding: 0 0 0 0;\n",
              "      width: 32px;\n",
              "    }\n",
              "\n",
              "    .colab-df-convert:hover {\n",
              "      background-color: #E2EBFA;\n",
              "      box-shadow: 0px 1px 2px rgba(60, 64, 67, 0.3), 0px 1px 3px 1px rgba(60, 64, 67, 0.15);\n",
              "      fill: #174EA6;\n",
              "    }\n",
              "\n",
              "    [theme=dark] .colab-df-convert {\n",
              "      background-color: #3B4455;\n",
              "      fill: #D2E3FC;\n",
              "    }\n",
              "\n",
              "    [theme=dark] .colab-df-convert:hover {\n",
              "      background-color: #434B5C;\n",
              "      box-shadow: 0px 1px 3px 1px rgba(0, 0, 0, 0.15);\n",
              "      filter: drop-shadow(0px 1px 2px rgba(0, 0, 0, 0.3));\n",
              "      fill: #FFFFFF;\n",
              "    }\n",
              "  </style>\n",
              "\n",
              "      <script>\n",
              "        const buttonEl =\n",
              "          document.querySelector('#df-7d0eddf6-0d66-4f93-8eb8-a8c5cad5130a button.colab-df-convert');\n",
              "        buttonEl.style.display =\n",
              "          google.colab.kernel.accessAllowed ? 'block' : 'none';\n",
              "\n",
              "        async function convertToInteractive(key) {\n",
              "          const element = document.querySelector('#df-7d0eddf6-0d66-4f93-8eb8-a8c5cad5130a');\n",
              "          const dataTable =\n",
              "            await google.colab.kernel.invokeFunction('convertToInteractive',\n",
              "                                                     [key], {});\n",
              "          if (!dataTable) return;\n",
              "\n",
              "          const docLinkHtml = 'Like what you see? Visit the ' +\n",
              "            '<a target=\"_blank\" href=https://colab.research.google.com/notebooks/data_table.ipynb>data table notebook</a>'\n",
              "            + ' to learn more about interactive tables.';\n",
              "          element.innerHTML = '';\n",
              "          dataTable['output_type'] = 'display_data';\n",
              "          await google.colab.output.renderOutput(dataTable, element);\n",
              "          const docLink = document.createElement('div');\n",
              "          docLink.innerHTML = docLinkHtml;\n",
              "          element.appendChild(docLink);\n",
              "        }\n",
              "      </script>\n",
              "    </div>\n",
              "  </div>\n"
            ]
          },
          "metadata": {},
          "execution_count": 23
        }
      ]
    },
    {
      "cell_type": "code",
      "source": [
        "#Defined X value and y value , and split the data train\n",
        "X = df.drop(columns=\"Adaptivity Level\")\n",
        "y = df[\"Adaptivity Level\"]   # y = quality\n",
        "\n",
        "# split the data train and test\n",
        "X_train, X_test, y_train, y_test = train_test_split(X, y, test_size=0.30, random_state=42)\n",
        "\n",
        "print(\"X Train : \", X_train.shape)\n",
        "print(\"X Test  : \", X_test.shape)\n",
        "print(\"Y Train : \", y_train.shape)\n",
        "print(\"Y Test  : \", y_test.shape)"
      ],
      "metadata": {
        "colab": {
          "base_uri": "https://localhost:8080/"
        },
        "id": "NWyFqkZEObLt",
        "outputId": "7ca7aaca-2a06-4e04-c086-18f3c0471fbf"
      },
      "execution_count": 24,
      "outputs": [
        {
          "output_type": "stream",
          "name": "stdout",
          "text": [
            "X Train :  (843, 13)\n",
            "X Test  :  (362, 13)\n",
            "Y Train :  (843,)\n",
            "Y Test  :  (362,)\n"
          ]
        }
      ]
    },
    {
      "cell_type": "code",
      "source": [
        "#Train the machine learning algorithm\n",
        "\n",
        "RFR = RandomForestClassifier()\n",
        "RFR.fit(X_train,y_train)"
      ],
      "metadata": {
        "colab": {
          "base_uri": "https://localhost:8080/",
          "height": 74
        },
        "id": "iXUC3Cq7OhZV",
        "outputId": "fb83cd25-ef62-4fca-dc50-e01477ddb6ad"
      },
      "execution_count": 25,
      "outputs": [
        {
          "output_type": "execute_result",
          "data": {
            "text/plain": [
              "RandomForestClassifier()"
            ],
            "text/html": [
              "<style>#sk-container-id-1 {color: black;background-color: white;}#sk-container-id-1 pre{padding: 0;}#sk-container-id-1 div.sk-toggleable {background-color: white;}#sk-container-id-1 label.sk-toggleable__label {cursor: pointer;display: block;width: 100%;margin-bottom: 0;padding: 0.3em;box-sizing: border-box;text-align: center;}#sk-container-id-1 label.sk-toggleable__label-arrow:before {content: \"▸\";float: left;margin-right: 0.25em;color: #696969;}#sk-container-id-1 label.sk-toggleable__label-arrow:hover:before {color: black;}#sk-container-id-1 div.sk-estimator:hover label.sk-toggleable__label-arrow:before {color: black;}#sk-container-id-1 div.sk-toggleable__content {max-height: 0;max-width: 0;overflow: hidden;text-align: left;background-color: #f0f8ff;}#sk-container-id-1 div.sk-toggleable__content pre {margin: 0.2em;color: black;border-radius: 0.25em;background-color: #f0f8ff;}#sk-container-id-1 input.sk-toggleable__control:checked~div.sk-toggleable__content {max-height: 200px;max-width: 100%;overflow: auto;}#sk-container-id-1 input.sk-toggleable__control:checked~label.sk-toggleable__label-arrow:before {content: \"▾\";}#sk-container-id-1 div.sk-estimator input.sk-toggleable__control:checked~label.sk-toggleable__label {background-color: #d4ebff;}#sk-container-id-1 div.sk-label input.sk-toggleable__control:checked~label.sk-toggleable__label {background-color: #d4ebff;}#sk-container-id-1 input.sk-hidden--visually {border: 0;clip: rect(1px 1px 1px 1px);clip: rect(1px, 1px, 1px, 1px);height: 1px;margin: -1px;overflow: hidden;padding: 0;position: absolute;width: 1px;}#sk-container-id-1 div.sk-estimator {font-family: monospace;background-color: #f0f8ff;border: 1px dotted black;border-radius: 0.25em;box-sizing: border-box;margin-bottom: 0.5em;}#sk-container-id-1 div.sk-estimator:hover {background-color: #d4ebff;}#sk-container-id-1 div.sk-parallel-item::after {content: \"\";width: 100%;border-bottom: 1px solid gray;flex-grow: 1;}#sk-container-id-1 div.sk-label:hover label.sk-toggleable__label {background-color: #d4ebff;}#sk-container-id-1 div.sk-serial::before {content: \"\";position: absolute;border-left: 1px solid gray;box-sizing: border-box;top: 0;bottom: 0;left: 50%;z-index: 0;}#sk-container-id-1 div.sk-serial {display: flex;flex-direction: column;align-items: center;background-color: white;padding-right: 0.2em;padding-left: 0.2em;position: relative;}#sk-container-id-1 div.sk-item {position: relative;z-index: 1;}#sk-container-id-1 div.sk-parallel {display: flex;align-items: stretch;justify-content: center;background-color: white;position: relative;}#sk-container-id-1 div.sk-item::before, #sk-container-id-1 div.sk-parallel-item::before {content: \"\";position: absolute;border-left: 1px solid gray;box-sizing: border-box;top: 0;bottom: 0;left: 50%;z-index: -1;}#sk-container-id-1 div.sk-parallel-item {display: flex;flex-direction: column;z-index: 1;position: relative;background-color: white;}#sk-container-id-1 div.sk-parallel-item:first-child::after {align-self: flex-end;width: 50%;}#sk-container-id-1 div.sk-parallel-item:last-child::after {align-self: flex-start;width: 50%;}#sk-container-id-1 div.sk-parallel-item:only-child::after {width: 0;}#sk-container-id-1 div.sk-dashed-wrapped {border: 1px dashed gray;margin: 0 0.4em 0.5em 0.4em;box-sizing: border-box;padding-bottom: 0.4em;background-color: white;}#sk-container-id-1 div.sk-label label {font-family: monospace;font-weight: bold;display: inline-block;line-height: 1.2em;}#sk-container-id-1 div.sk-label-container {text-align: center;}#sk-container-id-1 div.sk-container {/* jupyter's `normalize.less` sets `[hidden] { display: none; }` but bootstrap.min.css set `[hidden] { display: none !important; }` so we also need the `!important` here to be able to override the default hidden behavior on the sphinx rendered scikit-learn.org. See: https://github.com/scikit-learn/scikit-learn/issues/21755 */display: inline-block !important;position: relative;}#sk-container-id-1 div.sk-text-repr-fallback {display: none;}</style><div id=\"sk-container-id-1\" class=\"sk-top-container\"><div class=\"sk-text-repr-fallback\"><pre>RandomForestClassifier()</pre><b>In a Jupyter environment, please rerun this cell to show the HTML representation or trust the notebook. <br />On GitHub, the HTML representation is unable to render, please try loading this page with nbviewer.org.</b></div><div class=\"sk-container\" hidden><div class=\"sk-item\"><div class=\"sk-estimator sk-toggleable\"><input class=\"sk-toggleable__control sk-hidden--visually\" id=\"sk-estimator-id-1\" type=\"checkbox\" checked><label for=\"sk-estimator-id-1\" class=\"sk-toggleable__label sk-toggleable__label-arrow\">RandomForestClassifier</label><div class=\"sk-toggleable__content\"><pre>RandomForestClassifier()</pre></div></div></div></div></div>"
            ]
          },
          "metadata": {},
          "execution_count": 25
        }
      ]
    },
    {
      "cell_type": "code",
      "source": [
        "#Make predictions\n",
        "y_pred = RFR.predict(X_test)\n",
        "\n",
        "#Evaluate the accuracy\n",
        "accuracy =accuracy_score(y_test, y_pred)\n",
        "print(\"Accuracy:\",accuracy)"
      ],
      "metadata": {
        "colab": {
          "base_uri": "https://localhost:8080/"
        },
        "id": "OOI3vrHJOksf",
        "outputId": "12fb4a2b-1586-48be-f440-6841d110950a"
      },
      "execution_count": 26,
      "outputs": [
        {
          "output_type": "stream",
          "name": "stdout",
          "text": [
            "Accuracy: 0.8922651933701657\n"
          ]
        }
      ]
    },
    {
      "cell_type": "markdown",
      "source": [
        "**So our RandomForestClassifier Model has 89.23% Accuracy**"
      ],
      "metadata": {
        "id": "a2GJ9-f2OuhP"
      }
    },
    {
      "cell_type": "markdown",
      "source": [
        "**DATA ANALYSIS**\n",
        "\n",
        "* **The percentage Adaptivity Level in Dataset**\n",
        "\n",
        " Low = 39.8%\n",
        "\n",
        " Moderate = **51.9%**\n",
        "\n",
        " High = 8.3 %\n",
        "\n",
        "* **The percentage Gender in Dataset**\n",
        "\n",
        " Boy= 55%\n",
        "\n",
        " Girl = 45 %\n",
        "\n",
        "* **The Device using in Dataset**\n",
        "\n",
        " Mobile = **84.1%**\n",
        "\n",
        " Computer = 13.4%\n",
        "\n",
        " Tab = 2.5%\n",
        "\n",
        "* Affect on non Government is **HIGH**\n",
        "than Government institution.\n",
        "\n",
        "* Financial Condition in families have middle financial have **highest percentage Adaptivity Level** then poor families and the rich families have less Adaptivity Level\n",
        "\n",
        "* Not any differences between the **gender** for Adaptivity Level\n",
        "\n",
        "* most the student using 4G , and the Network 4G have the **highest progress**"
      ],
      "metadata": {
        "id": "R-0RFUv2PRsO"
      }
    },
    {
      "cell_type": "markdown",
      "source": [],
      "metadata": {
        "id": "aOIyg4BCV3_V"
      }
    },
    {
      "cell_type": "code",
      "source": [],
      "metadata": {
        "id": "eJpG1Hw4OpHt"
      },
      "execution_count": null,
      "outputs": []
    }
  ]
}