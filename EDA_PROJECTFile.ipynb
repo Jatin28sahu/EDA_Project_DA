{
  "nbformat": 4,
  "nbformat_minor": 0,
  "metadata": {
    "colab": {
      "provenance": [],
      "authorship_tag": "ABX9TyP01jbptfMqQJiaI82T5tu0",
      "include_colab_link": true
    },
    "kernelspec": {
      "name": "python3",
      "display_name": "Python 3"
    },
    "language_info": {
      "name": "python"
    }
  },
  "cells": [
    {
      "cell_type": "markdown",
      "metadata": {
        "id": "view-in-github",
        "colab_type": "text"
      },
      "source": [
        "<a href=\"https://colab.research.google.com/github/Jatin28sahu/EDA_Project_DA/blob/main/EDA_PROJECTFile.ipynb\" target=\"_parent\"><img src=\"https://colab.research.google.com/assets/colab-badge.svg\" alt=\"Open In Colab\"/></a>"
      ]
    },
    {
      "cell_type": "markdown",
      "source": [
        "**Adaptability of students in online Education**\n",
        "\n",
        "---\n",
        "\n",
        "\n",
        "\n",
        "* Since COVID-19 hits the World, Most of the big institutions look forward to the\n",
        "Online Education Activities.\n",
        "\n",
        "* But in many countries, it took a significant amount of time to adapt this. This is the Data set of one of the developing countries, Bangladesh.\n",
        "\n",
        "* In this dataset, we will analyse the relevant factors that correlate the most with online education and train dataset with the befitted model. This can help target the right factors and steps towards Modern education."
      ],
      "metadata": {
        "id": "T8MlNa1gV6eF"
      }
    },
    {
      "cell_type": "markdown",
      "source": [
        "Importing necessary Libraries"
      ],
      "metadata": {
        "id": "yHLJgODgW1m6"
      }
    },
    {
      "cell_type": "code",
      "source": [
        "import numpy as np\n",
        "import pandas as pd\n",
        "import seaborn as sns\n",
        "import matplotlib.pyplot as plt\n",
        "%matplotlib inline"
      ],
      "metadata": {
        "id": "N8JPIvWFGl8m"
      },
      "execution_count": null,
      "outputs": []
    },
    {
      "cell_type": "markdown",
      "source": [
        "Importing CSV file"
      ],
      "metadata": {
        "id": "IJvdTtHDG-ze"
      }
    },
    {
      "cell_type": "code",
      "source": [
        "df = pd.read_csv('students_adaptability_level_online_education.csv')"
      ],
      "metadata": {
        "id": "gjsz-QIhGhKN"
      },
      "execution_count": null,
      "outputs": []
    },
    {
      "cell_type": "code",
      "source": [
        "# look the dataset\n",
        "df.head()"
      ],
      "metadata": {
        "id": "i0Ek5eLXHL5O"
      },
      "execution_count": null,
      "outputs": []
    },
    {
      "cell_type": "code",
      "source": [
        "# Looking for no. of rows and column\n",
        "df.shape"
      ],
      "metadata": {
        "id": "rP5ell-LHTUm"
      },
      "execution_count": null,
      "outputs": []
    },
    {
      "cell_type": "code",
      "source": [
        "# cheaking datatype of all columns\n",
        "df.info()"
      ],
      "metadata": {
        "id": "OCdII5QQHZzj"
      },
      "execution_count": null,
      "outputs": []
    },
    {
      "cell_type": "code",
      "source": [
        "#cheaking missing value\n",
        "\n",
        "df.isnull().sum()"
      ],
      "metadata": {
        "id": "0koN_iidHceK"
      },
      "execution_count": null,
      "outputs": []
    },
    {
      "cell_type": "markdown",
      "source": [
        "**Not any missing value**"
      ],
      "metadata": {
        "id": "dHQ709CyHjqZ"
      }
    },
    {
      "cell_type": "code",
      "source": [
        "#Describing the dataset\n",
        "\n",
        "df.describe().T\n",
        "\n",
        "#we transposed the dataframe for better view"
      ],
      "metadata": {
        "id": "3RFfEonnHftD"
      },
      "execution_count": null,
      "outputs": []
    },
    {
      "cell_type": "code",
      "source": [
        "# Pie chart show % adaptivity level in dataset\n",
        "\n",
        "plt.figure(figsize=(8,6))\n",
        "df['Adaptivity Level'].value_counts().plot.pie(autopct='%1.1f%%' ,shadow=True)"
      ],
      "metadata": {
        "id": "FCUNz-qbHovw"
      },
      "execution_count": null,
      "outputs": []
    },
    {
      "cell_type": "markdown",
      "source": [
        "The percentage Adaptivity Level in Dataset\n",
        "\n",
        " **Low = 39.8%**\n",
        "\n",
        " **Moderate = 51.9%**\n",
        "\n",
        " **High = 8.3 %**"
      ],
      "metadata": {
        "id": "9f5oTS6LH2gq"
      }
    },
    {
      "cell_type": "code",
      "source": [
        "# Show the Device using in Dataset\n",
        "\n",
        "plt.figure( figsize=(8,6))\n",
        "\n",
        "df['Device'].value_counts().plot.pie(autopct='%1.1f%%', shadow=True)"
      ],
      "metadata": {
        "id": "Zs0OEtcKHxvC"
      },
      "execution_count": null,
      "outputs": []
    },
    {
      "cell_type": "markdown",
      "source": [
        "The Device using in Dataset\n",
        "\n",
        " **Mobile = 84.1%**\n",
        "\n",
        "**Computer = 13.4%**\n",
        "\n",
        " **Tab = 2.5%**"
      ],
      "metadata": {
        "id": "-Lgsz27mIS6t"
      }
    },
    {
      "cell_type": "code",
      "source": [
        "# Show the effect Institution Type in Adaptivity Level using in Dataset\n",
        "\n",
        "plt.figure(figsize=(8,6))\n",
        "\n",
        "\n",
        "\n",
        "sns.countplot(x=df[\"Institution Type\"],hue=df[\"Adaptivity Level\"])"
      ],
      "metadata": {
        "id": "ie-2CYRXIOPQ"
      },
      "execution_count": null,
      "outputs": []
    },
    {
      "cell_type": "markdown",
      "source": [
        "#### In general we can say that,\n",
        "**Affect on non Government - HIGH**\n",
        "\n",
        "**Affect on Government - LOW**"
      ],
      "metadata": {
        "id": "yNlqzye_L9Kw"
      }
    },
    {
      "cell_type": "code",
      "source": [
        "#Show the effect Financial Condition in Adaptivity Level using in Dataset\n",
        "\n",
        "plt.figure(figsize=(8,6))\n",
        "\n",
        "sns.countplot(x=df[\"Financial Condition\"],hue=df[\"Adaptivity Level\"])"
      ],
      "metadata": {
        "id": "oEMBJni8Ioss"
      },
      "execution_count": null,
      "outputs": []
    },
    {
      "cell_type": "markdown",
      "source": [
        "#### According to this data,\n",
        "\n",
        "**Middle Financial families Adaptivity - HIGH**\n",
        "\n",
        "**Poor and Rich Financial families Adaptivity - LOW**"
      ],
      "metadata": {
        "id": "UtLtvvsiMTij"
      }
    },
    {
      "cell_type": "code",
      "source": [
        "# Show the effect Gender in Adaptivity Level using in Dataset\n",
        "\n",
        "plt.figure(figsize=(8,6))\n",
        "\n",
        "sns.countplot(x=df[\"Gender\"],hue=df[\"Adaptivity Level\"])"
      ],
      "metadata": {
        "id": "U58JmqHYMJTU"
      },
      "execution_count": null,
      "outputs": []
    },
    {
      "cell_type": "markdown",
      "source": [
        "**Not remarkable difference between the gender for Adaptivity Level**\n",
        "\n"
      ],
      "metadata": {
        "id": "QVzAYGqeMrIq"
      }
    },
    {
      "cell_type": "code",
      "source": [
        "# Show the effect Network Type in Adaptivity Level using in Dataset\n",
        "\n",
        "plt.figure(figsize=(8,6))\n",
        "sns.countplot(x=df[\"Network Type\"],hue=df[\"Adaptivity Level\"])"
      ],
      "metadata": {
        "id": "Em73ADZqMkB5"
      },
      "execution_count": null,
      "outputs": []
    },
    {
      "cell_type": "markdown",
      "source": [
        "Most of the students using - 4G and its progress **Highest**\n",
        "\n",
        "Than 3G and 2G is  **lowest**"
      ],
      "metadata": {
        "id": "gCkZg-HZNUEl"
      }
    },
    {
      "cell_type": "markdown",
      "source": [
        "**Building a Machine Learning Model And Predict**"
      ],
      "metadata": {
        "id": "uQktv-szNvxp"
      }
    },
    {
      "cell_type": "code",
      "source": [
        "#Importing the basic librarires for building model - classification\n",
        "\n",
        "from sklearn.model_selection import train_test_split\n",
        "from sklearn.ensemble import RandomForestClassifier\n",
        "from sklearn.preprocessing import LabelEncoder,StandardScaler\n",
        "from sklearn.metrics import accuracy_score\n"
      ],
      "metadata": {
        "id": "ljHUGhN-NNEx"
      },
      "execution_count": null,
      "outputs": []
    },
    {
      "cell_type": "code",
      "source": [
        "df.info()"
      ],
      "metadata": {
        "id": "hteo5fywOEX2"
      },
      "execution_count": null,
      "outputs": []
    },
    {
      "cell_type": "markdown",
      "source": [
        "**We need change all data type using LabelEncode**"
      ],
      "metadata": {
        "id": "c3dcfAsaORHa"
      }
    },
    {
      "cell_type": "code",
      "source": [
        "# change all data type using LabelEncode\n",
        "\n",
        "data=df\n",
        "\n",
        "label_encoders = {}\n",
        "categorical_columns = data.columns  # I would recommend using columns names here if you're using pandas. If you're using numpy then stick with range(n) instead\n",
        "\n",
        "for column in categorical_columns:\n",
        "    label_encoders[column] = LabelEncoder()\n",
        "    data[column] = label_encoders[column].fit_transform(data[column])"
      ],
      "metadata": {
        "id": "QWtCQCmOOIus"
      },
      "execution_count": null,
      "outputs": []
    },
    {
      "cell_type": "code",
      "source": [
        "data.head()"
      ],
      "metadata": {
        "id": "zofg2S1WOXqZ"
      },
      "execution_count": null,
      "outputs": []
    },
    {
      "cell_type": "code",
      "source": [
        "#Defined X value and y value , and split the data train\n",
        "X = df.drop(columns=\"Adaptivity Level\")\n",
        "y = df[\"Adaptivity Level\"]   # y = quality\n",
        "\n",
        "# split the data train and test\n",
        "X_train, X_test, y_train, y_test = train_test_split(X, y, test_size=0.30, random_state=42)\n",
        "\n",
        "print(\"X Train : \", X_train.shape)\n",
        "print(\"X Test  : \", X_test.shape)\n",
        "print(\"Y Train : \", y_train.shape)\n",
        "print(\"Y Test  : \", y_test.shape)"
      ],
      "metadata": {
        "id": "NWyFqkZEObLt"
      },
      "execution_count": null,
      "outputs": []
    },
    {
      "cell_type": "code",
      "source": [
        "#Train the machine learning algorithm\n",
        "\n",
        "RFR = RandomForestClassifier()\n",
        "RFR.fit(X_train,y_train)"
      ],
      "metadata": {
        "id": "iXUC3Cq7OhZV"
      },
      "execution_count": null,
      "outputs": []
    },
    {
      "cell_type": "code",
      "source": [
        "#Make predictions\n",
        "y_pred = RFR.predict(X_test)\n",
        "\n",
        "#Evaluate the accuracy\n",
        "accuracy =accuracy_score(y_test, y_pred)\n",
        "print(\"Accuracy:\",accuracy)"
      ],
      "metadata": {
        "id": "OOI3vrHJOksf"
      },
      "execution_count": null,
      "outputs": []
    },
    {
      "cell_type": "markdown",
      "source": [
        "**So our RandomForestClassifier Model has 89.23% Accuracy**"
      ],
      "metadata": {
        "id": "a2GJ9-f2OuhP"
      }
    },
    {
      "cell_type": "markdown",
      "source": [
        "**DATA ANALYSIS**\n",
        "\n",
        "* **The percentage Adaptivity Level in Dataset**\n",
        "\n",
        " Low = 39.8%\n",
        "\n",
        " Moderate = **51.9%**\n",
        "\n",
        " High = 8.3 %\n",
        "\n",
        "* **The percentage Gender in Dataset**\n",
        "\n",
        " Boy= 55%\n",
        "\n",
        " Girl = 45 %\n",
        "\n",
        "* **The Device using in Dataset**\n",
        "\n",
        " Mobile = **84.1%**\n",
        "\n",
        " Computer = 13.4%\n",
        "\n",
        " Tab = 2.5%\n",
        "\n",
        "* Affect on non Government is **HIGH**\n",
        "than Government institution.\n",
        "\n",
        "* Financial Condition in families have middle financial have **highest percentage Adaptivity Level** then poor families and the rich families have less Adaptivity Level\n",
        "\n",
        "* Not any differences between the **gender** for Adaptivity Level\n",
        "\n",
        "* most the student using 4G , and the Network 4G have the **highest progress**"
      ],
      "metadata": {
        "id": "R-0RFUv2PRsO"
      }
    },
    {
      "cell_type": "markdown",
      "source": [],
      "metadata": {
        "id": "aOIyg4BCV3_V"
      }
    },
    {
      "cell_type": "code",
      "source": [],
      "metadata": {
        "id": "eJpG1Hw4OpHt"
      },
      "execution_count": null,
      "outputs": []
    }
  ]
}